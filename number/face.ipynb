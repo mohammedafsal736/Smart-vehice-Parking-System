{
 "cells": [
  {
   "cell_type": "code",
   "execution_count": 14,
   "id": "105bb4f2",
   "metadata": {},
   "outputs": [],
   "source": [
    "import joblib\n"
   ]
  },
  {
   "cell_type": "code",
   "execution_count": 15,
   "id": "50db569d",
   "metadata": {},
   "outputs": [
    {
     "name": "stderr",
     "output_type": "stream",
     "text": [
      "C:\\anaconda\\lib\\site-packages\\sklearn\\base.py:310: UserWarning: Trying to unpickle estimator LogisticRegression from version 1.0 when using version 0.24.1. This might lead to breaking code or invalid results. Use at your own risk.\n",
      "  warnings.warn(\n"
     ]
    }
   ],
   "source": [
    "model1=joblib.load('model1.pkl')"
   ]
  },
  {
   "cell_type": "code",
   "execution_count": 16,
   "id": "abfe3e83",
   "metadata": {},
   "outputs": [],
   "source": [
    "import cv2\n",
    "import sys\n",
    "from PIL import Image\n",
    "\n",
    "cascPath = sys.argv[1]\n",
    "#faceCascade = cv2.CascadeClassifier('haarcascade_frontalface_default.xml')\n",
    "\n",
    "video_capture = cv2.VideoCapture(0)\n",
    "condition = True\n",
    "\n",
    "while condition:\n",
    "    # Capture frame-by-frame\n",
    "    ret, frame = video_capture.read()\n",
    "        \n",
    "    # Display the resulting frame\n",
    "    cv2.imshow('Video', frame)\n",
    "    \n",
    "    k = cv2.waitKey(100)\n",
    "    if k == 27:         # wait for ESC key to exit\n",
    "        cv2.destroyAllWindows()\n",
    "    elif k == ord('s'): # wait for 's' key to save and exit\n",
    "        cv2.imwrite('result/img1.jpg',frame)\n",
    "        cv2.destroyAllWindows()\n",
    "        condition = False\n",
    "    \n",
    "video_capture.release()\n",
    "cv2.destroyAllWindows()"
   ]
  },
  {
   "cell_type": "code",
   "execution_count": 17,
   "id": "b47b342a",
   "metadata": {},
   "outputs": [],
   "source": [
    "import os\n",
    "import cv2"
   ]
  },
  {
   "cell_type": "code",
   "execution_count": 20,
   "id": "5b14a169",
   "metadata": {},
   "outputs": [
    {
     "name": "stdout",
     "output_type": "stream",
     "text": [
      "[[248 249 248 247 246 245 216 244 243 237 213 250 246 220 243 251 199 247\n",
      "  247 247 244 236 239 240 234 219 221 104 110  62 102 247 246 246 225 221\n",
      "  242 241 241 193  61  36  41  99 145 251 250 249 249 244 243 233 235 235\n",
      "  231 220 215 110 111   0 243 243 243 218 242 242 243 243  42  18  22  24\n",
      "   43  32  53 101 242 247 248 244 242 231 234 234 231 220 204 104 116   0\n",
      "  149 131 107  69  80  67  85 106  24  22  48  11  14  56  16  10  55 235\n",
      "  241 244 238 229 233 232 227 214 187 107 129   0 226 139  59  70  70  68\n",
      "   64  49  62   3   0  15  23  24  12  15   8  37  90  89  88  89  85  82\n",
      "  161 163 175 109 132   0   1  60  57  63   1   2   2   0   0   0   0   1\n",
      "    0  10   0   2   9  36  88  88  89  88  86  83 154 167 129 112 128   0\n",
      "    1 107  30 226   0   0   0   0   0   0  24  48  45 178  18  15   0   5\n",
      "   89  87  89  84  82  73 158 164 105 107 120   0   0 143  33 229   0   0\n",
      "    0   0   0  66  95  85 108 126 151  71   0   2  86  83  87  83  80  77\n",
      "  160 167  89  97 120   0   0 135  46 219   0   0   0   0  21  74 130 136\n",
      "  124 207 227 168   0   5  85  80  77  82  78  80 160 169  85 136  57   0\n",
      "    0 163  49 216  78  52  63   0  64  89 114 135 156 129 137 192  75 103\n",
      "   84  70  98  75  79  79 162 170  88 211  50   0  17 137 176   0   0   0\n",
      "    0   0  82  21   6  28  60  29  29  95 162 216 212 112 170 203 201 188\n",
      "  180 184  80 160  28   0 115 155 149   0   0   0   3  39  91  23   0   3\n",
      "  142   4   2  78 160  43 226 155 198 223 220 223 194 196  71 110  12   0\n",
      "  255 247 228   0   0   0  36  52  82  32   6  54 214 151  22 172 157 151\n",
      "  237 235 241 245 244 243 235 206  76  72  12   0  73 112 110   0   0   0\n",
      "    0   6  88 110 128  68 227 176 246 205 152  41  70  15  18  10  18   6\n",
      "   14  16  78 204   7   0   6 109 111   0   0   0   0  74  80 101 112 114\n",
      "  191 225 174 198 150 202 121 129 124 123 125 119 117  55  74 135 254 253\n",
      "   34 107 107   0   0   0   0  65  68  72  66  10  82  10 162 160 143 160\n",
      "   75 114 123 132 129  93  42  48 251 243 235 229   0   3   0   0   0   0\n",
      "    0   0  64  51  27  31  18 116  81 111 138   0  54   3   0   2   3   0\n",
      "    0 250 237 217 182 205   0   1   0   0   0   0   0   0  11  43   0  15\n",
      "   16   4  20 101 119  15  16  11   7   7   5   4   1 240 137 204 224 216\n",
      "    0   2   0   0   1   0   0   0   2  42  31  53  83  98 108  96  85  58\n",
      "   34   9  20  15   9   6 219 238  63   0 213 217   1   3   0   0   8   1\n",
      "   10  54 245  46  29  43  18  76 122 104 117 118 118 118 122 118 108 112\n",
      "  217 233  69   0 216 221  15   3   0   0  22 221 207  37  43   4  19  32\n",
      "   34 102  70 113 118 123 126 122 114 123 155 119 198 197 112 187 215 220\n",
      "   13   0  31  83  20 245  42  54 125  50  19  11  12  18  39 130 187 254\n",
      "  162 157 111 103 107 119 199 196 107  86 213 222  16   0 168 143 158 167\n",
      "  157 140 104  49  34  12  13  27  77 126 122 254 255 193 147 171 178 189\n",
      "  208 204 111  88 157 150  14   0 138 158 147 150 152 254  65  53  39  34\n",
      "   15  31 108 131 188 125 255 255 183 181 190 189 187 184 114  92 154 155\n",
      "   13   0   0   1 144 233 231 213  64  56  43  40  28  51 106 171 201  22\n",
      "  255 255 255 196 199 255 216 159 114 105 152 146   5   1   0 248 252 181\n",
      "  249 213  89  69  48  44  42  79 137 186 217 208 255 255 255 255 255 255\n",
      "  106 161 111  61 108  53   7 237 235 224 210 226 228 214 181 100  74  58\n",
      "   64 121 210 180 201 220 255 255 255 191 255 255 254 222   9   1 211 210\n",
      "  240 234 241 170 195 228 203 107 218 229  69  74 182 171 209 216 233 255\n",
      "  255 255 255 255 255 255 255 255  58  58 207 215 232 179 251 179 192 231\n",
      "  212 227 140  86 233 163 190 178 189 232 243 255 255 255 254 255 255 255\n",
      "  255 255 255 199 221 215 253 186 255 228 213 243 211 227 213 225 133 203\n",
      "  187 190 203 240 255 255 255 214 255 255 255 255 255 255 255 209 211 215]]\n"
     ]
    }
   ],
   "source": [
    "IMG_DIR = 'result'\n",
    "\n",
    "for img in os.listdir(IMG_DIR):\n",
    "        img_array = cv2.imread(os.path.join(IMG_DIR,img), cv2.IMREAD_GRAYSCALE)\n",
    "        img_array = cv2.resize(img_array,(30,30))\n",
    "\n",
    "        img_array = (img_array.flatten())\n",
    "\n",
    "        img_array  = img_array.reshape(-1, 1).T\n",
    "\n",
    "        print(img_array)\n",
    "        #with open('result1.csv', 'ab') as f:\n",
    "            #np.savetxt(f,img_array, delimiter=\",\")"
   ]
  },
  {
   "cell_type": "code",
   "execution_count": 21,
   "id": "0b8b3270",
   "metadata": {},
   "outputs": [],
   "source": [
    "import numpy"
   ]
  },
  {
   "cell_type": "code",
   "execution_count": 22,
   "id": "b390a42e",
   "metadata": {},
   "outputs": [],
   "source": [
    "img_array=numpy.array(img_array)"
   ]
  },
  {
   "cell_type": "code",
   "execution_count": 23,
   "id": "b4249b38",
   "metadata": {},
   "outputs": [
    {
     "name": "stdout",
     "output_type": "stream",
     "text": [
      "[[248 249 248 247 246 245 216 244 243 237 213 250 246 220 243 251 199 247\n",
      "  247 247 244 236 239 240 234 219 221 104 110  62 102 247 246 246 225 221\n",
      "  242 241 241 193  61  36  41  99 145 251 250 249 249 244 243 233 235 235\n",
      "  231 220 215 110 111   0 243 243 243 218 242 242 243 243  42  18  22  24\n",
      "   43  32  53 101 242 247 248 244 242 231 234 234 231 220 204 104 116   0\n",
      "  149 131 107  69  80  67  85 106  24  22  48  11  14  56  16  10  55 235\n",
      "  241 244 238 229 233 232 227 214 187 107 129   0 226 139  59  70  70  68\n",
      "   64  49  62   3   0  15  23  24  12  15   8  37  90  89  88  89  85  82\n",
      "  161 163 175 109 132   0   1  60  57  63   1   2   2   0   0   0   0   1\n",
      "    0  10   0   2   9  36  88  88  89  88  86  83 154 167 129 112 128   0\n",
      "    1 107  30 226   0   0   0   0   0   0  24  48  45 178  18  15   0   5\n",
      "   89  87  89  84  82  73 158 164 105 107 120   0   0 143  33 229   0   0\n",
      "    0   0   0  66  95  85 108 126 151  71   0   2  86  83  87  83  80  77\n",
      "  160 167  89  97 120   0   0 135  46 219   0   0   0   0  21  74 130 136\n",
      "  124 207 227 168   0   5  85  80  77  82  78  80 160 169  85 136  57   0\n",
      "    0 163  49 216  78  52  63   0  64  89 114 135 156 129 137 192  75 103\n",
      "   84  70  98  75  79  79 162 170  88 211  50   0  17 137 176   0   0   0\n",
      "    0   0  82  21   6  28  60  29  29  95 162 216 212 112 170 203 201 188\n",
      "  180 184  80 160  28   0 115 155 149   0   0   0   3  39  91  23   0   3\n",
      "  142   4   2  78 160  43 226 155 198 223 220 223 194 196  71 110  12   0\n",
      "  255 247 228   0   0   0  36  52  82  32   6  54 214 151  22 172 157 151\n",
      "  237 235 241 245 244 243 235 206  76  72  12   0  73 112 110   0   0   0\n",
      "    0   6  88 110 128  68 227 176 246 205 152  41  70  15  18  10  18   6\n",
      "   14  16  78 204   7   0   6 109 111   0   0   0   0  74  80 101 112 114\n",
      "  191 225 174 198 150 202 121 129 124 123 125 119 117  55  74 135 254 253\n",
      "   34 107 107   0   0   0   0  65  68  72  66  10  82  10 162 160 143 160\n",
      "   75 114 123 132 129  93  42  48 251 243 235 229   0   3   0   0   0   0\n",
      "    0   0  64  51  27  31  18 116  81 111 138   0  54   3   0   2   3   0\n",
      "    0 250 237 217 182 205   0   1   0   0   0   0   0   0  11  43   0  15\n",
      "   16   4  20 101 119  15  16  11   7   7   5   4   1 240 137 204 224 216\n",
      "    0   2   0   0   1   0   0   0   2  42  31  53  83  98 108  96  85  58\n",
      "   34   9  20  15   9   6 219 238  63   0 213 217   1   3   0   0   8   1\n",
      "   10  54 245  46  29  43  18  76 122 104 117 118 118 118 122 118 108 112\n",
      "  217 233  69   0 216 221  15   3   0   0  22 221 207  37  43   4  19  32\n",
      "   34 102  70 113 118 123 126 122 114 123 155 119 198 197 112 187 215 220\n",
      "   13   0  31  83  20 245  42  54 125  50  19  11  12  18  39 130 187 254\n",
      "  162 157 111 103 107 119 199 196 107  86 213 222  16   0 168 143 158 167\n",
      "  157 140 104  49  34  12  13  27  77 126 122 254 255 193 147 171 178 189\n",
      "  208 204 111  88 157 150  14   0 138 158 147 150 152 254  65  53  39  34\n",
      "   15  31 108 131 188 125 255 255 183 181 190 189 187 184 114  92 154 155\n",
      "   13   0   0   1 144 233 231 213  64  56  43  40  28  51 106 171 201  22\n",
      "  255 255 255 196 199 255 216 159 114 105 152 146   5   1   0 248 252 181\n",
      "  249 213  89  69  48  44  42  79 137 186 217 208 255 255 255 255 255 255\n",
      "  106 161 111  61 108  53   7 237 235 224 210 226 228 214 181 100  74  58\n",
      "   64 121 210 180 201 220 255 255 255 191 255 255 254 222   9   1 211 210\n",
      "  240 234 241 170 195 228 203 107 218 229  69  74 182 171 209 216 233 255\n",
      "  255 255 255 255 255 255 255 255  58  58 207 215 232 179 251 179 192 231\n",
      "  212 227 140  86 233 163 190 178 189 232 243 255 255 255 254 255 255 255\n",
      "  255 255 255 199 221 215 253 186 255 228 213 243 211 227 213 225 133 203\n",
      "  187 190 203 240 255 255 255 214 255 255 255 255 255 255 255 209 211 215]]\n"
     ]
    }
   ],
   "source": [
    "print(img_array)"
   ]
  },
  {
   "cell_type": "code",
   "execution_count": 24,
   "id": "ebb5eddb",
   "metadata": {},
   "outputs": [
    {
     "data": {
      "text/plain": [
       "numpy.ndarray"
      ]
     },
     "execution_count": 24,
     "metadata": {},
     "output_type": "execute_result"
    }
   ],
   "source": [
    "type(img_array)"
   ]
  },
  {
   "cell_type": "code",
   "execution_count": 26,
   "id": "3292e6e7",
   "metadata": {},
   "outputs": [],
   "source": [
    "pre=model1.predict(img_array)"
   ]
  },
  {
   "cell_type": "code",
   "execution_count": 27,
   "id": "a70d035a",
   "metadata": {},
   "outputs": [],
   "source": [
    "pre=pre[0]"
   ]
  },
  {
   "cell_type": "code",
   "execution_count": 29,
   "id": "d52b578b",
   "metadata": {},
   "outputs": [
    {
     "data": {
      "text/plain": [
       "'person_a'"
      ]
     },
     "execution_count": 29,
     "metadata": {},
     "output_type": "execute_result"
    }
   ],
   "source": [
    "pre"
   ]
  },
  {
   "cell_type": "code",
   "execution_count": 31,
   "id": "613cfac7",
   "metadata": {},
   "outputs": [
    {
     "ename": "SerialException",
     "evalue": "could not open port 'COM4': FileNotFoundError(2, 'The system cannot find the file specified.', None, 2)",
     "output_type": "error",
     "traceback": [
      "\u001b[1;31m---------------------------------------------------------------------------\u001b[0m",
      "\u001b[1;31mSerialException\u001b[0m                           Traceback (most recent call last)",
      "\u001b[1;32m<ipython-input-31-60288c88b0e8>\u001b[0m in \u001b[0;36m<module>\u001b[1;34m\u001b[0m\n\u001b[0;32m      7\u001b[0m \u001b[0mser\u001b[0m\u001b[1;33m.\u001b[0m\u001b[0mparity\u001b[0m \u001b[1;33m=\u001b[0m \u001b[0mserial\u001b[0m\u001b[1;33m.\u001b[0m\u001b[0mPARITY_NONE\u001b[0m\u001b[1;33m\u001b[0m\u001b[1;33m\u001b[0m\u001b[0m\n\u001b[0;32m      8\u001b[0m \u001b[0mser\u001b[0m\u001b[1;33m.\u001b[0m\u001b[0mstopbits\u001b[0m \u001b[1;33m=\u001b[0m \u001b[0mserial\u001b[0m\u001b[1;33m.\u001b[0m\u001b[0mSTOPBITS_ONE\u001b[0m\u001b[1;33m\u001b[0m\u001b[1;33m\u001b[0m\u001b[0m\n\u001b[1;32m----> 9\u001b[1;33m \u001b[0mser\u001b[0m\u001b[1;33m.\u001b[0m\u001b[0mopen\u001b[0m\u001b[1;33m(\u001b[0m\u001b[1;33m)\u001b[0m\u001b[1;33m\u001b[0m\u001b[1;33m\u001b[0m\u001b[0m\n\u001b[0m\u001b[0;32m     10\u001b[0m \u001b[1;32mif\u001b[0m \u001b[0mpre\u001b[0m \u001b[1;33m==\u001b[0m \u001b[0mperson_a\u001b[0m\u001b[1;33m:\u001b[0m\u001b[1;33m\u001b[0m\u001b[1;33m\u001b[0m\u001b[0m\n\u001b[0;32m     11\u001b[0m     \u001b[0mv\u001b[0m\u001b[1;33m=\u001b[0m\u001b[1;34mb'1'\u001b[0m\u001b[1;33m\u001b[0m\u001b[1;33m\u001b[0m\u001b[0m\n",
      "\u001b[1;32mC:\\anaconda\\lib\\site-packages\\serial\\serialwin32.py\u001b[0m in \u001b[0;36mopen\u001b[1;34m(self)\u001b[0m\n\u001b[0;32m     62\u001b[0m         \u001b[1;32mif\u001b[0m \u001b[0mself\u001b[0m\u001b[1;33m.\u001b[0m\u001b[0m_port_handle\u001b[0m \u001b[1;33m==\u001b[0m \u001b[0mwin32\u001b[0m\u001b[1;33m.\u001b[0m\u001b[0mINVALID_HANDLE_VALUE\u001b[0m\u001b[1;33m:\u001b[0m\u001b[1;33m\u001b[0m\u001b[1;33m\u001b[0m\u001b[0m\n\u001b[0;32m     63\u001b[0m             \u001b[0mself\u001b[0m\u001b[1;33m.\u001b[0m\u001b[0m_port_handle\u001b[0m \u001b[1;33m=\u001b[0m \u001b[1;32mNone\u001b[0m    \u001b[1;31m# 'cause __del__ is called anyway\u001b[0m\u001b[1;33m\u001b[0m\u001b[1;33m\u001b[0m\u001b[0m\n\u001b[1;32m---> 64\u001b[1;33m             \u001b[1;32mraise\u001b[0m \u001b[0mSerialException\u001b[0m\u001b[1;33m(\u001b[0m\u001b[1;34m\"could not open port {!r}: {!r}\"\u001b[0m\u001b[1;33m.\u001b[0m\u001b[0mformat\u001b[0m\u001b[1;33m(\u001b[0m\u001b[0mself\u001b[0m\u001b[1;33m.\u001b[0m\u001b[0mportstr\u001b[0m\u001b[1;33m,\u001b[0m \u001b[0mctypes\u001b[0m\u001b[1;33m.\u001b[0m\u001b[0mWinError\u001b[0m\u001b[1;33m(\u001b[0m\u001b[1;33m)\u001b[0m\u001b[1;33m)\u001b[0m\u001b[1;33m)\u001b[0m\u001b[1;33m\u001b[0m\u001b[1;33m\u001b[0m\u001b[0m\n\u001b[0m\u001b[0;32m     65\u001b[0m \u001b[1;33m\u001b[0m\u001b[0m\n\u001b[0;32m     66\u001b[0m         \u001b[1;32mtry\u001b[0m\u001b[1;33m:\u001b[0m\u001b[1;33m\u001b[0m\u001b[1;33m\u001b[0m\u001b[0m\n",
      "\u001b[1;31mSerialException\u001b[0m: could not open port 'COM4': FileNotFoundError(2, 'The system cannot find the file specified.', None, 2)"
     ]
    }
   ],
   "source": [
    "import serial\n",
    "\n",
    "ser = serial.Serial()\n",
    "ser.port = 'COM4'\n",
    "ser.baudrate = 9600\n",
    "ser.bytesize = 8\n",
    "ser.parity = serial.PARITY_NONE\n",
    "ser.stopbits = serial.STOPBITS_ONE\n",
    "ser.open()\n",
    "a = b'*R#'\n",
    "ser.write(a)\n",
    "if pre == person_a:\n",
    "    v=b'1'\n",
    "    ser.write(v)\n",
    "else:\n",
    "    v=b'2'\n",
    "    ser.write(v)"
   ]
  },
  {
   "cell_type": "code",
   "execution_count": null,
   "id": "b90417ab",
   "metadata": {},
   "outputs": [],
   "source": []
  }
 ],
 "metadata": {
  "kernelspec": {
   "display_name": "Python 3",
   "language": "python",
   "name": "python3"
  },
  "language_info": {
   "codemirror_mode": {
    "name": "ipython",
    "version": 3
   },
   "file_extension": ".py",
   "mimetype": "text/x-python",
   "name": "python",
   "nbconvert_exporter": "python",
   "pygments_lexer": "ipython3",
   "version": "3.8.8"
  }
 },
 "nbformat": 4,
 "nbformat_minor": 5
}
